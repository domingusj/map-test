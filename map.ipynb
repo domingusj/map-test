{
 "metadata": {
  "language_info": {
   "codemirror_mode": {
    "name": "ipython",
    "version": 3
   },
   "file_extension": ".py",
   "mimetype": "text/x-python",
   "name": "python",
   "nbconvert_exporter": "python",
   "pygments_lexer": "ipython3",
   "version": "3.9.6"
  },
  "orig_nbformat": 4,
  "kernelspec": {
   "name": "python3",
   "display_name": "Python 3.9.6 64-bit ('3.9.6': pyenv)"
  },
  "interpreter": {
   "hash": "ad2268206ae84cfa0295378b36e9b5ad4e36b0b6a5110ed72f1ae465bdd2d3ef"
  }
 },
 "nbformat": 4,
 "nbformat_minor": 2,
 "cells": [
  {
   "cell_type": "code",
   "execution_count": 1,
   "metadata": {},
   "outputs": [
    {
     "output_type": "stream",
     "name": "stdout",
     "text": [
      "User Guide: https://docs.kepler.gl/docs/keplergl-jupyter\n"
     ]
    },
    {
     "output_type": "display_data",
     "data": {
      "text/plain": "KeplerGl()",
      "application/vnd.jupyter.widget-view+json": {
       "version_major": 2,
       "version_minor": 0,
       "model_id": "f64cd0aa8df943c9bd9dc30f5f1eb6f1"
      }
     },
     "metadata": {}
    }
   ],
   "source": [
    "# Load an empty map\n",
    "from keplergl import KeplerGl\n",
    "map_1 = KeplerGl()\n",
    "map_1"
   ]
  }
 ]
}